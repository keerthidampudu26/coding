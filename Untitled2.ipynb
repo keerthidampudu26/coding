{
 "cells": [
  {
   "cell_type": "code",
   "execution_count": 7,
   "id": "2b0f2d7f-d3e4-4ad5-9bc0-a3841c8fe9e2",
   "metadata": {},
   "outputs": [
    {
     "name": "stdout",
     "output_type": "stream",
     "text": [
      "2\n",
      "1\n"
     ]
    }
   ],
   "source": [
    "a=1\n",
    "b=2\n",
    "a=a^b\n",
    "b=b^a\n",
    "a=a^b\n",
    "print(a)\n",
    "print(b)"
   ]
  },
  {
   "cell_type": "code",
   "execution_count": null,
   "id": "3d77ee82-7aac-4609-918e-b1036a0acc7b",
   "metadata": {},
   "outputs": [],
   "source": [
    "a=1\n",
    "b=2\n",
    "temp=a\n",
    "a=(a | b)&b\n",
    "b=(temp|b)&temp\n",
    "\n"
   ]
  },
  {
   "cell_type": "code",
   "execution_count": 89,
   "id": "2f17f377-eab8-4bce-932a-a9351cd2c9d5",
   "metadata": {},
   "outputs": [
    {
     "name": "stdout",
     "output_type": "stream",
     "text": [
      "dict_keys([1, 2, 3])\n",
      "[2, 1, 3]\n"
     ]
    }
   ],
   "source": [
    "d={1:10,2:20,3:30}\n",
    "k=d.keys()\n",
    "print(k)\n",
    "l=list(k)\n",
    "l[0],l[1]=l[1],l[0]\n",
    "print(l)\n"
   ]
  },
  {
   "cell_type": "code",
   "execution_count": 87,
   "id": "063f412b-3a23-47ae-91ae-d2cc3d3bb371",
   "metadata": {},
   "outputs": [
    {
     "name": "stdout",
     "output_type": "stream",
     "text": [
      "[2, 1, 3]\n"
     ]
    }
   ],
   "source": [
    "gen =iter([1,2,3])\n",
    "lst=list(gen)\n",
    "lst[0],lst[1]=lst[1],lst[0]\n",
    "print(lst)"
   ]
  },
  {
   "cell_type": "code",
   "execution_count": 91,
   "id": "e2752278-4a8b-4b35-bb99-5442c48a1ee8",
   "metadata": {},
   "outputs": [
    {
     "name": "stdout",
     "output_type": "stream",
     "text": [
      "{1: 20, 2: 10, 3: 30}\n"
     ]
    }
   ],
   "source": [
    "d={1:10,2:20,3:30}\n",
    "d[1],d[2]=d[2],d[1]\n",
    "print(d)"
   ]
  },
  {
   "cell_type": "code",
   "execution_count": 135,
   "id": "d8df740a-bcf0-44a4-91eb-9fb96a944cd3",
   "metadata": {},
   "outputs": [
    {
     "name": "stdout",
     "output_type": "stream",
     "text": [
      "[4, 16, 36, 64, 100]\n"
     ]
    }
   ],
   "source": [
    "n=10\n",
    "l=[ i**2 for i in range(1,n+1) if(i%2==0)]\n",
    "print(l)\n"
   ]
  },
  {
   "cell_type": "code",
   "execution_count": null,
   "id": "2d62c4e6-85ed-4146-8551-05dd30c90100",
   "metadata": {},
   "outputs": [],
   "source": [
    "n=int(input(\"a number\"))\n",
    "k=n\n",
    "sum=0\n",
    "while(n>0):\n",
    "    r=n%10\n",
    "    f=1\n",
    "    for  i in range(1,r+1):\n",
    "        f*=i\n",
    "    sum+=f\n",
    "    n//=10\n",
    "if(sum==k):\n",
    "    print(\"y\")    \n",
    "else:\n",
    "    print(\"n\")\n"
   ]
  },
  {
   "cell_type": "code",
   "execution_count": null,
   "id": "9fe8a76a-463b-4c6c-9cfc-be417d7025da",
   "metadata": {},
   "outputs": [],
   "source": [
    "n=int(input(\"enter a value\"))\n",
    "k=n\n",
    "s=0\n",
    "while(n>0):\n",
    "    r=n%10\n",
    "    s=s+r\n",
    "    n=n//10\n",
    "if(s==k):\n",
    "    print(\"s\")\n",
    "else:\n",
    "    print(\"n\")\n",
    "    "
   ]
  },
  {
   "cell_type": "code",
   "execution_count": null,
   "id": "6a025adc-d299-470e-a63e-e7a78bc9bc19",
   "metadata": {},
   "outputs": [],
   "source": []
  }
 ],
 "metadata": {
  "kernelspec": {
   "display_name": "Python 3 (ipykernel)",
   "language": "python",
   "name": "python3"
  },
  "language_info": {
   "codemirror_mode": {
    "name": "ipython",
    "version": 3
   },
   "file_extension": ".py",
   "mimetype": "text/x-python",
   "name": "python",
   "nbconvert_exporter": "python",
   "pygments_lexer": "ipython3",
   "version": "3.12.7"
  }
 },
 "nbformat": 4,
 "nbformat_minor": 5
}

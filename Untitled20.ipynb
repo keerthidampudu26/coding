{
 "cells": [
  {
   "cell_type": "code",
   "execution_count": 5,
   "id": "c8de85a5-8a79-4639-9803-5b3bdd5bd630",
   "metadata": {},
   "outputs": [
    {
     "name": "stdin",
     "output_type": "stream",
     "text": [
      " 2\n",
      " 0\n"
     ]
    },
    {
     "name": "stdout",
     "output_type": "stream",
     "text": [
      "denominator cannot be zero\n"
     ]
    }
   ],
   "source": [
    "'''errors and exceptions\n",
    "type o errors/ exceptions\n",
    "except finally\n",
    "rasing exception'''\n",
    "n=int(input())\n",
    "d=int(input())\n",
    "try:\n",
    "    c=n/d\n",
    "    print(\"qoutient:\",c)\n",
    "except ZeroDivisionError:\n",
    "    print(\"denominator cannot be zero\")\n",
    "\n"
   ]
  },
  {
   "cell_type": "code",
   "execution_count": 19,
   "id": "0a429853-993f-4680-b967-335e3434ce0f",
   "metadata": {},
   "outputs": [
    {
     "name": "stdin",
     "output_type": "stream",
     "text": [
      " 0\n"
     ]
    },
    {
     "name": "stdout",
     "output_type": "stream",
     "text": [
      "0\n",
      "bye dear\n"
     ]
    }
   ],
   "source": [
    "#multiple exception handling\n",
    "try:\n",
    "    n=int(input())\n",
    "    print(n**2)\n",
    "except (KeyboardInterrupt,ValueError,TypeError):\n",
    "    print(\"you have to enter error not str\")\n",
    "print(\"bye dear\")    "
   ]
  },
  {
   "cell_type": "code",
   "execution_count": 21,
   "id": "dd606833-2a4e-4aa5-90f0-14d300c191de",
   "metadata": {},
   "outputs": [
    {
     "name": "stdout",
     "output_type": "stream",
     "text": [
      "4\n",
      "even eecuting perfectly exception occurs\n"
     ]
    }
   ],
   "source": [
    "#raise an exception\n",
    "try:\n",
    "    n=4\n",
    "    print(n)\n",
    "    raise ValueError\n",
    "except:\n",
    "    print(\"even eecuting perfectly exception occurs\")"
   ]
  },
  {
   "cell_type": "code",
   "execution_count": 23,
   "id": "1e139839-bb11-4e96-a074-fa6c97850aef",
   "metadata": {},
   "outputs": [
    {
     "name": "stdout",
     "output_type": "stream",
     "text": [
      "re-raise\n"
     ]
    },
    {
     "ename": "NameError",
     "evalue": "",
     "output_type": "error",
     "traceback": [
      "\u001b[1;31m---------------------------------------------------------------------------\u001b[0m",
      "\u001b[1;31mNameError\u001b[0m                                 Traceback (most recent call last)",
      "Cell \u001b[1;32mIn[23], line 3\u001b[0m\n\u001b[0;32m      1\u001b[0m \u001b[38;5;66;03m#re raise an exception\u001b[39;00m\n\u001b[0;32m      2\u001b[0m \u001b[38;5;28;01mtry\u001b[39;00m:\n\u001b[1;32m----> 3\u001b[0m     \u001b[38;5;28;01mraise\u001b[39;00m \u001b[38;5;167;01mNameError\u001b[39;00m\n\u001b[0;32m      4\u001b[0m \u001b[38;5;28;01mexcept\u001b[39;00m:\n\u001b[0;32m      5\u001b[0m     \u001b[38;5;28mprint\u001b[39m(\u001b[38;5;124m'\u001b[39m\u001b[38;5;124mre-raise\u001b[39m\u001b[38;5;124m'\u001b[39m)\n",
      "\u001b[1;31mNameError\u001b[0m: "
     ]
    }
   ],
   "source": [
    "#re raise an exception\n",
    "try:\n",
    "    raise NameError\n",
    "except:\n",
    "    print('re-raise')\n",
    "    raise    "
   ]
  },
  {
   "cell_type": "code",
   "execution_count": 47,
   "id": "632a2993-67d4-4b7f-bc89-81443dcc9396",
   "metadata": {},
   "outputs": [
    {
     "name": "stdout",
     "output_type": "stream",
     "text": [
      "<class 'Exception'>\n",
      "((0, 20, 30), 'students')\n",
      "((0, 20, 30), 'students')\n",
      "x value (0, 20, 30)\n",
      "y value students\n"
     ]
    }
   ],
   "source": [
    "#instance using in exceptions\n",
    "try: \n",
    "    raise Exception((0,20,30),'students')\n",
    "except Exception as errorObj:\n",
    "    print(type(errorObj))\n",
    "    print(errorObj.args)\n",
    "    print(errorObj)\n",
    "    x,y=errorObj.args\n",
    "    print(\"x value\",x)\n",
    "    print(\"y value\",y)"
   ]
  },
  {
   "cell_type": "code",
   "execution_count": 55,
   "id": "824968fc-890b-4a4b-9fc6-48d4d95903c1",
   "metadata": {},
   "outputs": [
    {
     "name": "stdin",
     "output_type": "stream",
     "text": [
      " 2\n",
      " 1\n"
     ]
    },
    {
     "name": "stdout",
     "output_type": "stream",
     "text": [
      "2.0\n"
     ]
    }
   ],
   "source": [
    "def div(n,d):\n",
    "    try:\n",
    "        q=n/d\n",
    "        print(q)\n",
    "    except ZeroDivisionError:\n",
    "        print(\"non processed\")\n",
    "a=int(input())\n",
    "b=int(input())\n",
    "div(a,b)\n",
    "        "
   ]
  },
  {
   "cell_type": "code",
   "execution_count": null,
   "id": "47ef4ff4-2678-48f7-983d-a9e7952813f6",
   "metadata": {},
   "outputs": [],
   "source": [
    "'''exception base class/all exceptions\n",
    "SystemExit-ss.exit()\n",
    "StandardError-except sys.exit()/StopIteration()\n",
    "OverflowError-numeric type errors exceeds limit\n",
    "arthmeticError-base class for a calc\n",
    "IoError -import file error\n",
    "floatingPointError\n",
    "AssertionError\n",
    "AttributeError\n",
    "ImportError\n",
    "KeyError\n",
    "EnvironmentError\n",
    "IndentError\n",
    "StopIterationError\n",
    "EOFError\n",
    "LookupError\n",
    "SyntaxError\n",
    "IndentaionError'''\n"
   ]
  },
  {
   "cell_type": "code",
   "execution_count": 59,
   "id": "12e9c4ac-e754-4f78-9852-8b57d0f682fc",
   "metadata": {},
   "outputs": [
    {
     "name": "stdout",
     "output_type": "stream",
     "text": [
      "99\n",
      "<class 'int'>\n"
     ]
    }
   ],
   "source": [
    "class myError(Exception):\n",
    "    def __init__(self,value):\n",
    "        self.value=value\n",
    "    def __str__(self):\n",
    "        return repr(self.value)\n",
    "try:\n",
    "    raise myError(99)\n",
    "except myError as e:\n",
    "    print(e.value)\n",
    "    print(type(e.value))"
   ]
  },
  {
   "cell_type": "code",
   "execution_count": 63,
   "id": "c72c9afe-850d-45a4-9b92-409e0669e022",
   "metadata": {},
   "outputs": [
    {
     "name": "stdout",
     "output_type": "stream",
     "text": [
      "raise exception\n",
      "performing cleanup by finally\n"
     ]
    },
    {
     "ename": "ValueError",
     "evalue": "",
     "output_type": "error",
     "traceback": [
      "\u001b[1;31m---------------------------------------------------------------------------\u001b[0m",
      "\u001b[1;31mValueError\u001b[0m                                Traceback (most recent call last)",
      "Cell \u001b[1;32mIn[63], line 3\u001b[0m\n\u001b[0;32m      1\u001b[0m \u001b[38;5;28;01mtry\u001b[39;00m:\n\u001b[0;32m      2\u001b[0m     \u001b[38;5;28mprint\u001b[39m(\u001b[38;5;124m\"\u001b[39m\u001b[38;5;124mraise exception\u001b[39m\u001b[38;5;124m\"\u001b[39m)\n\u001b[1;32m----> 3\u001b[0m     \u001b[38;5;28;01mraise\u001b[39;00m \u001b[38;5;167;01mValueError\u001b[39;00m\n\u001b[0;32m      4\u001b[0m \u001b[38;5;28;01mfinally\u001b[39;00m:\n\u001b[0;32m      5\u001b[0m     \u001b[38;5;28mprint\u001b[39m(\u001b[38;5;124m\"\u001b[39m\u001b[38;5;124mperforming cleanup by finally\u001b[39m\u001b[38;5;124m\"\u001b[39m)\n",
      "\u001b[1;31mValueError\u001b[0m: "
     ]
    }
   ],
   "source": [
    "try:\n",
    "    print(\"raise exception\")\n",
    "    raise ValueError\n",
    "finally:\n",
    "    print(\"performing cleanup by finally\")\n",
    "    "
   ]
  },
  {
   "cell_type": "code",
   "execution_count": 65,
   "id": "c9960cca-c8c6-4eb2-aa18-7e0fa369e8c4",
   "metadata": {},
   "outputs": [
    {
     "name": "stdout",
     "output_type": "stream",
     "text": [
      "ac\n",
      "12\n",
      "abc123\n"
     ]
    }
   ],
   "source": [
    "try:\n",
    "    print(\"ac\")\n",
    "    raise ValueError\n",
    "except:\n",
    "    print('12')\n",
    "finally:\n",
    "    print('abc123')"
   ]
  },
  {
   "cell_type": "code",
   "execution_count": 75,
   "id": "df75a4da-0b0f-4ec0-8a4e-3539aa7c4c29",
   "metadata": {},
   "outputs": [
    {
     "name": "stdout",
     "output_type": "stream",
     "text": [
      "-----calc menu---\n",
      "1.addition \n",
      "2.subtraction\n",
      "3.multiply\n",
      "4.divide\n",
      "5.modulo\n",
      "6.expo\n",
      "7.floor_division\n",
      "8.exit\n"
     ]
    },
    {
     "name": "stdin",
     "output_type": "stream",
     "text": [
      "select an operation(1-8) 8\n"
     ]
    },
    {
     "name": "stdout",
     "output_type": "stream",
     "text": [
      "exit\n"
     ]
    }
   ],
   "source": [
    "### intrractive calc model python operaion\n",
    "class calculator:\n",
    "    def __init__(self):\n",
    "        self.one=0\n",
    "        self.two=0\n",
    "    def input_numbers(self):\n",
    "        try:\n",
    "            self.one=float(input(\"enter 1st number\"))\n",
    "            self.two=float(input(\"enter 2st number\"))\n",
    "        except ValueError:\n",
    "            print(\"invalid input\")\n",
    "            self.input_numbers()\n",
    "    def add(self):\n",
    "         return self.one+self.two\n",
    "    def subtract(self):\n",
    "         return self.one-self.two\n",
    "    def multiply(self):\n",
    "         return self.one*self.two\n",
    "    def division(self):\n",
    "        if self.two==0:\n",
    "            raise ZeroDivisionError(\"cannot divide with Zero\")\n",
    "        return self.one/self.two\n",
    "    def modulo(self):\n",
    "         return self.one%self.two\n",
    "    def expo(self):\n",
    "         return self.one**self.two\n",
    "    def floor_division(self):\n",
    "         return self.one//self.two  \n",
    "def dis_menu():\n",
    "    print('-----calc menu---')\n",
    "    print(\"1.addition \\n2.subtraction\\n3.multiply\\n4.divide\\n5.modulo\\n6.expo\\n7.floor_division\\n8.exit\")\n",
    "def main():\n",
    "    cal=calculator()\n",
    "    while True:\n",
    "        dis_menu()\n",
    "        ch=input(\"select an operation(1-8)\")\n",
    "        if  ch=='8':\n",
    "            print(\"exit\")\n",
    "            break\n",
    "        cal.input_numbers()\n",
    "        try :\n",
    "            if ch=='1':\n",
    "                print(\"result:\",cal.add())\n",
    "            elif ch=='2':\n",
    "                print(\"result:\",cal.subtract())\n",
    "            elif ch=='3':\n",
    "                print(\"result:\",cal.multiply())\n",
    "            elif ch=='4':\n",
    "                print(\"result:\",cal.divide())\n",
    "            elif ch=='5':\n",
    "                print(\"result:\",cal.modulo())\n",
    "            elif ch=='6':\n",
    "                print(\"result:\",cal.expo())\n",
    "            elif ch=='7':\n",
    "                print(\"result:\",cal.floor_division())\n",
    "            else:\n",
    "                print(\"Invalid choice,select from 1-8\")\n",
    "        except ZeroDivisionError as e:\n",
    "            print(\"Error\",e)\n",
    "        except Exception as e:\n",
    "            print(\"unexpected Error\",e)\n",
    "main()            \n",
    "                                 \n",
    "                "
   ]
  },
  {
   "cell_type": "code",
   "execution_count": null,
   "id": "33d243be-dd4d-4a74-a138-ce169e0d6836",
   "metadata": {},
   "outputs": [],
   "source": []
  }
 ],
 "metadata": {
  "kernelspec": {
   "display_name": "Python 3 (ipykernel)",
   "language": "python",
   "name": "python3"
  },
  "language_info": {
   "codemirror_mode": {
    "name": "ipython",
    "version": 3
   },
   "file_extension": ".py",
   "mimetype": "text/x-python",
   "name": "python",
   "nbconvert_exporter": "python",
   "pygments_lexer": "ipython3",
   "version": "3.12.7"
  }
 },
 "nbformat": 4,
 "nbformat_minor": 5
}

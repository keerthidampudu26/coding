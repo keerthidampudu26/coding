{
 "cells": [
  {
   "cell_type": "code",
   "execution_count": 3,
   "id": "c81edcb9-8207-44de-bcd8-4e1a681cef30",
   "metadata": {},
   "outputs": [
    {
     "name": "stdin",
     "output_type": "stream",
     "text": [
      "enter a value 11\n"
     ]
    },
    {
     "name": "stdout",
     "output_type": "stream",
     "text": [
      "no\n"
     ]
    }
   ],
   "source": [
    "n=int(input(\"enter a value\"))\n",
    "sum=0\n",
    "k=n\n",
    "while(n>0):\n",
    "    r=n%10\n",
    "    sum=sum+r\n",
    "    n//=10\n",
    "if(k % sum==0):\n",
    "    print(\"y\")\n",
    "else:\n",
    "    print(\"no\")\n",
    "    "
   ]
  },
  {
   "cell_type": "code",
   "execution_count": null,
   "id": "155aa125-06a7-4b13-bda6-16102f10c5a4",
   "metadata": {},
   "outputs": [],
   "source": [
    "n=in"
   ]
  },
  {
   "cell_type": "code",
   "execution_count": null,
   "id": "6f112692-bdcf-4b22-acb2-2a8d7e894c5b",
   "metadata": {},
   "outputs": [],
   "source": []
  }
 ],
 "metadata": {
  "kernelspec": {
   "display_name": "Python 3 (ipykernel)",
   "language": "python",
   "name": "python3"
  },
  "language_info": {
   "codemirror_mode": {
    "name": "ipython",
    "version": 3
   },
   "file_extension": ".py",
   "mimetype": "text/x-python",
   "name": "python",
   "nbconvert_exporter": "python",
   "pygments_lexer": "ipython3",
   "version": "3.12.7"
  }
 },
 "nbformat": 4,
 "nbformat_minor": 5
}

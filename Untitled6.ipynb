{
 "cells": [
  {
   "cell_type": "code",
   "execution_count": 10,
   "id": "8fb10d30-af5c-4d52-82f3-e00fed365dc1",
   "metadata": {},
   "outputs": [
    {
     "name": "stdout",
     "output_type": "stream",
     "text": [
      " hi! keerthi i am puji\n"
     ]
    }
   ],
   "source": [
    "def kee(a,b):\n",
    "    return f\" hi! {a} i am {b}\"\n",
    "print(kee(\"keerthi\",\"puji\"))"
   ]
  },
  {
   "cell_type": "code",
   "execution_count": 56,
   "id": "7c8e1444-0fcb-40a9-9f6f-35aa3d09e71c",
   "metadata": {},
   "outputs": [
    {
     "name": "stdout",
     "output_type": "stream",
     "text": [
      "3\n"
     ]
    }
   ],
   "source": [
    "def a(a=2,b=1):\n",
    "    return a*b\n",
    "print(a(a=1,b=3))"
   ]
  },
  {
   "cell_type": "code",
   "execution_count": 58,
   "id": "fdd7aeed-b889-4263-8b33-04eec5a3a4d4",
   "metadata": {},
   "outputs": [
    {
     "name": "stdout",
     "output_type": "stream",
     "text": [
      "7\n",
      "60\n"
     ]
    }
   ],
   "source": [
    "def sumn(*kee):\n",
    "    return sum(kee)\n",
    "print(sumn(1,2,4))\n",
    "print(sumn(10,20,30))"
   ]
  },
  {
   "cell_type": "code",
   "execution_count": 62,
   "id": "51cf0cb4-b13c-44c9-b464-6d458ca02cff",
   "metadata": {},
   "outputs": [
    {
     "name": "stdout",
     "output_type": "stream",
     "text": [
      "name:keerthi\n",
      "age:21\n",
      "num:123456\n"
     ]
    }
   ],
   "source": [
    "#function with key word arguments\n",
    "def kee(**rthi):\n",
    "    for keys,value in rthi.items():\n",
    "        print(f'{keys}:{value}')\n",
    "kee(name=\"keerthi\",age=21,num=123456)       "
   ]
  },
  {
   "cell_type": "code",
   "execution_count": 70,
   "id": "f3a79d39-8d11-4533-a268-956e6ca510a7",
   "metadata": {},
   "outputs": [
    {
     "name": "stdout",
     "output_type": "stream",
     "text": [
      "8\n"
     ]
    }
   ],
   "source": [
    "#lambda\n",
    "s=lambda k:k+k\n",
    "print(s(4))"
   ]
  },
  {
   "cell_type": "code",
   "execution_count": 92,
   "id": "e38b3808-6152-4c51-a3ac-ab69f96e3687",
   "metadata": {},
   "outputs": [
    {
     "name": "stdout",
     "output_type": "stream",
     "text": [
      "min:1,max:5,avg:3.0\n"
     ]
    }
   ],
   "source": [
    "def values(numbers):\n",
    "    return min(numbers) ,max(numbers),sum(numbers)/len(numbers)\n",
    "m_val,max_val,avg=values([1,2,3,4,5])\n",
    "print(f\"min:{m_val},max:{max_val},avg:{avg}\")\n"
   ]
  },
  {
   "cell_type": "code",
   "execution_count": 100,
   "id": "044be3ed-df97-41bd-bd1b-fc4606218fc2",
   "metadata": {},
   "outputs": [
    {
     "name": "stdout",
     "output_type": "stream",
     "text": [
      "120\n"
     ]
    }
   ],
   "source": [
    "#recursion direct\n",
    "def fact(n):\n",
    "    if n==0 or n==1:\n",
    "        return 1\n",
    "    return n*fact(n-1)\n",
    "print(fact(5))"
   ]
  },
  {
   "cell_type": "code",
   "execution_count": 106,
   "id": "e1f48a7e-fc7a-4ffc-b306-dd6e94871a19",
   "metadata": {},
   "outputs": [
    {
     "name": "stdout",
     "output_type": "stream",
     "text": [
      "False\n"
     ]
    }
   ],
   "source": [
    "#recursion indirect\n",
    "def is_even(n):\n",
    "    if n==0:\n",
    "        return True\n",
    "    return is_odd(n-1)\n",
    "def is_odd(n):\n",
    "    if n==0:\n",
    "        return False\n",
    "    return is_even(n-1)\n",
    "print(is_even(3))    \n"
   ]
  },
  {
   "cell_type": "code",
   "execution_count": 123,
   "id": "7c41624f-2177-4ab3-8865-e5196f00b160",
   "metadata": {},
   "outputs": [
    {
     "name": "stdout",
     "output_type": "stream",
     "text": [
      "True\n",
      "False\n"
     ]
    }
   ],
   "source": [
    "#create a pr to determine if a string is palindrome by recusively comparing character from start to end by base case function and call if poibter meets its palindrome \n",
    "\"\"\" def is palindrome length\n",
    "def check  palindrome start,end,s\n",
    "input:racecar=true\n",
    "hello false\"\"\"\n",
    "def is_p(s):\n",
    "    if(len(s)<=1):\n",
    "        return True\n",
    "    return check_p(s,0,len(s)-1)\n",
    "def check_p(s,start,end): \n",
    "    if start>=end:\n",
    "        return True\n",
    "    if s[start]!=s[end]:\n",
    "        return False\n",
    "    return is_p(s[start+1:end])    \n",
    "print(is_p(\"level\"))\n",
    "print(is_p(\"hi\"))\n",
    "\n",
    "\n"
   ]
  },
  {
   "cell_type": "code",
   "execution_count": 127,
   "id": "c3e159cc-edf5-4987-80e9-6056ebc29242",
   "metadata": {},
   "outputs": [
    {
     "name": "stdout",
     "output_type": "stream",
     "text": [
      "True\n"
     ]
    }
   ],
   "source": [
    "def palindrome(s):\n",
    "    if s==s[::-1]:\n",
    "        return True\n",
    "    else: \n",
    "        return False\n",
    "print(palindrome(\"level\"))    "
   ]
  },
  {
   "cell_type": "code",
   "execution_count": 131,
   "id": "71ec7ae8-f63c-4554-bb50-28214003b93e",
   "metadata": {},
   "outputs": [
    {
     "name": "stdout",
     "output_type": "stream",
     "text": [
      "120\n"
     ]
    }
   ],
   "source": [
    "#tail recursion\n",
    "def ftail(n,acc=1):\n",
    "    if n==0 or n==1:\n",
    "        return acc\n",
    "    return ftail(n-1,n*acc)\n",
    "print(ftail(5))"
   ]
  },
  {
   "cell_type": "code",
   "execution_count": 135,
   "id": "ed900ac2-43ea-43a8-8471-c24aa25a659d",
   "metadata": {},
   "outputs": [
    {
     "name": "stdout",
     "output_type": "stream",
     "text": [
      "5\n"
     ]
    }
   ],
   "source": [
    "def ackermann(m,n):\n",
    "    if m==0:\n",
    "        return n+1\n",
    "    elif m>0 and n==0:\n",
    "        return ackermann(m-1,1)\n",
    "    else:\n",
    "        return ackermann(m-1,ackermann(m,n-1))\n",
    "print(ackermann(2,1  ))      "
   ]
  },
  {
   "cell_type": "code",
   "execution_count": 145,
   "id": "c081a618-d53f-46af-9fd0-498e18711957",
   "metadata": {},
   "outputs": [
    {
     "name": "stdout",
     "output_type": "stream",
     "text": [
      "50\n"
     ]
    }
   ],
   "source": [
    "def fun(n):\n",
    "    if n>50:\n",
    "        return n-5\n",
    "    else:    \n",
    "        return fun(n+5)\n",
    "print(fun(30))        "
   ]
  },
  {
   "cell_type": "code",
   "execution_count": 155,
   "id": "c2d0c043-4040-4b46-882c-9ea4c351f3bc",
   "metadata": {},
   "outputs": [
    {
     "name": "stdout",
     "output_type": "stream",
     "text": [
      "120\n"
     ]
    }
   ],
   "source": [
    "import math\n",
    "a=5\n",
    "print(math.factorial(a))"
   ]
  },
  {
   "cell_type": "code",
   "execution_count": 166,
   "id": "9678083f-910b-44a9-8b9c-79df1aabcc5b",
   "metadata": {},
   "outputs": [
    {
     "name": "stdout",
     "output_type": "stream",
     "text": [
      "288\n"
     ]
    }
   ],
   "source": [
    "def sfact(n):\n",
    "    if n<=1:\n",
    "        return 1\n",
    "    return fact(n)*sfact(n-1)\n",
    "def fact(n):\n",
    "    if(n<=1):\n",
    "        return 1\n",
    "    return n*fact(n-1)\n",
    "print(sfact(4))\n",
    "    \n"
   ]
  },
  {
   "cell_type": "code",
   "execution_count": null,
   "id": "7169a970-750f-4d16-9ec6-25c6a0adaf6b",
   "metadata": {},
   "outputs": [],
   "source": []
  }
 ],
 "metadata": {
  "kernelspec": {
   "display_name": "Python 3 (ipykernel)",
   "language": "python",
   "name": "python3"
  },
  "language_info": {
   "codemirror_mode": {
    "name": "ipython",
    "version": 3
   },
   "file_extension": ".py",
   "mimetype": "text/x-python",
   "name": "python",
   "nbconvert_exporter": "python",
   "pygments_lexer": "ipython3",
   "version": "3.12.7"
  }
 },
 "nbformat": 4,
 "nbformat_minor": 5
}

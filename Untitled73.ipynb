{
 "cells": [
  {
   "cell_type": "code",
   "execution_count": 8,
   "id": "0c6b1c18-3da8-431d-aaeb-866221250659",
   "metadata": {},
   "outputs": [
    {
     "name": "stdout",
     "output_type": "stream",
     "text": [
      "base class2\n",
      "base class1\n",
      "both are deriverd\n"
     ]
    }
   ],
   "source": [
    "#multipile inheritance\n",
    "class b1(object):\n",
    "    def __init__(self):\n",
    "        super(b1,self).__init__()\n",
    "        print(\"base class1\")\n",
    "class b2(object):\n",
    "    def __init__(self):\n",
    "        super(b2,self).__init__()\n",
    "        print(\"base class2\")\n",
    "class derived(b1,b2):\n",
    "    def __init__(self):\n",
    "        super(derived,self).__init__()\n",
    "        print(\"both are deriverd\")\n",
    "d=derived()\n"
   ]
  },
  {
   "cell_type": "code",
   "execution_count": 20,
   "id": "61a44a66-5b80-4073-b69c-3f9b7dfda8c6",
   "metadata": {},
   "outputs": [
    {
     "name": "stdin",
     "output_type": "stream",
     "text": [
      " 2\n",
      " 3\n"
     ]
    },
    {
     "name": "stdout",
     "output_type": "stream",
     "text": [
      "5\n",
      "6\n"
     ]
    },
    {
     "ename": "AttributeError",
     "evalue": "'calc' object has no attribute 'add'",
     "output_type": "error",
     "traceback": [
      "\u001b[1;31m---------------------------------------------------------------------------\u001b[0m",
      "\u001b[1;31mAttributeError\u001b[0m                            Traceback (most recent call last)",
      "Cell \u001b[1;32mIn[20], line 25\u001b[0m\n\u001b[0;32m     23\u001b[0m y\u001b[38;5;241m=\u001b[39m\u001b[38;5;28mint\u001b[39m(\u001b[38;5;28minput\u001b[39m())\n\u001b[0;32m     24\u001b[0m c\u001b[38;5;241m=\u001b[39mcalc(x,y)\n\u001b[1;32m---> 25\u001b[0m \u001b[38;5;28mprint\u001b[39m(\u001b[38;5;124m\"\u001b[39m\u001b[38;5;124maddition\u001b[39m\u001b[38;5;124m\"\u001b[39m,c\u001b[38;5;241m.\u001b[39madd())\n\u001b[0;32m     26\u001b[0m \u001b[38;5;28mprint\u001b[39m(\u001b[38;5;124m\"\u001b[39m\u001b[38;5;124mmultiplication\u001b[39m\u001b[38;5;124m\"\u001b[39m,c\u001b[38;5;241m.\u001b[39mmul())\n",
      "\u001b[1;31mAttributeError\u001b[0m: 'calc' object has no attribute 'add'"
     ]
    }
   ],
   "source": [
    "'''# initilaize class addition,multipilcatiom in a calculator and pass the values from main programm to the super class where the subclasses addition \n",
    "#and multiplication were triggered \n",
    "#ans return the outputs respectively\n",
    "1.take derived class calc\n",
    "2.from derived  class call subclasses ass and mul\n",
    "3.return the values after to the object\n",
    "4.manual values of f both numbers considered within  the obj'''\n",
    "class add:\n",
    "    def __init__(self,a,b):\n",
    "        self.a=a\n",
    "        self.b=b\n",
    "        print(self.a+self.b)\n",
    "class mul:\n",
    "    def __init__(self,a,b):\n",
    "        self.a=a\n",
    "        self.b=b\n",
    "        print( self.a*self.b)\n",
    "class calc(add,mul):\n",
    "    def __init__(self,a,b):\n",
    "        add.__init__(self,a,b)\n",
    "        mul.__init__(self,a,b)\n",
    "x=int(input())\n",
    "y=int(input())\n",
    "c=calc(x,y)\n",
    "print(\"addition\",c.add())\n",
    "print(\"multiplication\",c.mul())\n",
    "        "
   ]
  },
  {
   "cell_type": "code",
   "execution_count": 60,
   "id": "4235a05c-54de-4e37-bd90-af1e1869b7d7",
   "metadata": {},
   "outputs": [
    {
     "name": "stdout",
     "output_type": "stream",
     "text": [
      "square 4\n",
      "cube 8\n",
      "add 12\n"
     ]
    }
   ],
   "source": [
    "class square:\n",
    "    def __init__(self,a):\n",
    "        self.a=a   \n",
    "    def sq(self):    \n",
    "        return self.a**2\n",
    "class cube:\n",
    "    def __init__(self,a):\n",
    "        self.a=a \n",
    "    def cu(self):\n",
    "        return self.a**3\n",
    "class add(square,cube):\n",
    "    def __init__(self,a):\n",
    "        square.__init__(self,a)\n",
    "        cube.__init__(self,a)\n",
    "    def total(self):\n",
    "        return self.sq()+self.cu()\n",
    "x=2\n",
    "y=add(x)\n",
    "print(\"square\",y.sq())\n",
    "print(\"cube\",y.cu())\n",
    "print(\"add\",y.total())\n",
    "\n",
    "        "
   ]
  },
  {
   "cell_type": "code",
   "execution_count": 54,
   "id": "778e0e7a-5e00-41be-b1a9-87ac066dc587",
   "metadata": {},
   "outputs": [
    {
     "name": "stdout",
     "output_type": "stream",
     "text": [
      "name..\n",
      "experience..20\n"
     ]
    }
   ],
   "source": [
    "#multilevel inheritence\n",
    "class person:\n",
    "    def name(self):\n",
    "        print(\"name..\")\n",
    "class teacher(person):\n",
    "    def qualification(self):\n",
    "        print(\"phd\")\n",
    "class hod(teacher):\n",
    "    def exp(self):\n",
    "        print(\"experience..20\")\n",
    "head=hod()\n",
    "head.name()\n",
    "head.exp()\n",
    "        "
   ]
  },
  {
   "cell_type": "code",
   "execution_count": 68,
   "id": "c41c8ab2-4b55-47c9-a1ad-a3dad5832cf7",
   "metadata": {},
   "outputs": [
    {
     "name": "stdout",
     "output_type": "stream",
     "text": [
      "double 8\n",
      "triple 12\n"
     ]
    }
   ],
   "source": [
    "class number :\n",
    "    def __init__(self,num):\n",
    "        self.num=num\n",
    "    def get_number(self):\n",
    "        return self.num\n",
    "class d(number):\n",
    "    def result(self):\n",
    "        return self.get_number()*2\n",
    "class t(number):\n",
    "    def result(self):\n",
    "        return self.get_number()*3\n",
    "d=d(4)\n",
    "print(\"double\",d.result())\n",
    "t=t(4)\n",
    "print(\"triple\",t.result())\n",
    "\n",
    "\n",
    "\n",
    "\n"
   ]
  },
  {
   "cell_type": "code",
   "execution_count": 75,
   "id": "2592dc1b-6c45-450b-bc0b-237701c3f483",
   "metadata": {},
   "outputs": [
    {
     "name": "stdout",
     "output_type": "stream",
     "text": [
      "sweet A yellow\n",
      "sour c orange\n"
     ]
    }
   ],
   "source": [
    "#abstract class\n",
    "class fruit:\n",
    "    def taste(self):\n",
    "        raise NotImplementedError()\n",
    "    def vitamin(self):\n",
    "        raise NotImplementedError()\n",
    "    def colour(self):\n",
    "         raise NotImplementedError()   \n",
    "class mango(fruit):\n",
    "    def taste(self):\n",
    "        return \"sweet\"\n",
    "    def vitamin(self):\n",
    "        return \"A\"\n",
    "    def colour(self):    \n",
    "        return \"yellow\"\n",
    "class orange(fruit):\n",
    "    def taste(self):\n",
    "        return \"sour\"\n",
    "    def vitamin(self):\n",
    "        return \"c\"\n",
    "    def colour(self):\n",
    "        return \"orange\"\n",
    "alphanso=mango()\n",
    "print(alphanso.taste(),alphanso.vitamin(),alphanso.colour())\n",
    "org=orange()\n",
    "print(org.taste(),org.vitamin(),org.colour())"
   ]
  },
  {
   "cell_type": "code",
   "execution_count": null,
   "id": "2344c438-d1ed-4418-a590-c8a190527468",
   "metadata": {},
   "outputs": [],
   "source": []
  }
 ],
 "metadata": {
  "kernelspec": {
   "display_name": "Python 3 (ipykernel)",
   "language": "python",
   "name": "python3"
  },
  "language_info": {
   "codemirror_mode": {
    "name": "ipython",
    "version": 3
   },
   "file_extension": ".py",
   "mimetype": "text/x-python",
   "name": "python",
   "nbconvert_exporter": "python",
   "pygments_lexer": "ipython3",
   "version": "3.12.7"
  }
 },
 "nbformat": 4,
 "nbformat_minor": 5
}

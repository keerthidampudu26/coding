{
 "cells": [
  {
   "cell_type": "code",
   "execution_count": 38,
   "id": "a15d7245-fcfc-4013-9b33-54be6a48d15f",
   "metadata": {},
   "outputs": [
    {
     "name": "stdout",
     "output_type": "stream",
     "text": [
      "this is adition\n"
     ]
    },
    {
     "ename": "AttributeError",
     "evalue": "'keerthi' object has no attribute 'keerthi'",
     "output_type": "error",
     "traceback": [
      "\u001b[1;31m---------------------------------------------------------------------------\u001b[0m",
      "\u001b[1;31mAttributeError\u001b[0m                            Traceback (most recent call last)",
      "Cell \u001b[1;32mIn[38], line 9\u001b[0m\n\u001b[0;32m      7\u001b[0m v\u001b[38;5;241m=\u001b[39mkeerthi()\n\u001b[0;32m      8\u001b[0m v\u001b[38;5;241m.\u001b[39madd()\n\u001b[1;32m----> 9\u001b[0m \u001b[38;5;28mprint\u001b[39m(v\u001b[38;5;241m.\u001b[39mkeerthi())\n",
      "\u001b[1;31mAttributeError\u001b[0m: 'keerthi' object has no attribute 'keerthi'"
     ]
    }
   ],
   "source": [
    "class keerthi():\n",
    "    a=10\n",
    "    b=10\n",
    "    c=a+b\n",
    "    def add(self):\n",
    "        print(\"this is adition\")\n",
    "v=keerthi()\n",
    "v.add()\n",
    "print(v.keerthi())\n",
    "\n"
   ]
  },
  {
   "cell_type": "code",
   "execution_count": 28,
   "id": "16029e2b-07aa-4103-a2d3-8f95cb851b6f",
   "metadata": {},
   "outputs": [
    {
     "name": "stdout",
     "output_type": "stream",
     "text": [
      "this is clas metod\n",
      "the value is: 20\n"
     ]
    }
   ],
   "source": [
    "class abc():\n",
    "    def __init__(self,val):\n",
    "        print(\"this is clas metod\")\n",
    "\n",
    "        print(\"the value is:\",val)\n",
    "v=abc(20)        "
   ]
  },
  {
   "cell_type": "code",
   "execution_count": 42,
   "id": "af09a428-15e0-4f2b-9bf2-daf1c72d957e",
   "metadata": {},
   "outputs": [
    {
     "name": "stdout",
     "output_type": "stream",
     "text": [
      "object ar: 10\n",
      "clas var 1\n",
      "object ar: 20\n",
      "clas var 2\n"
     ]
    }
   ],
   "source": [
    "class abc():\n",
    "    c=0\n",
    "    def __init__(self,var):\n",
    "        abc.c+=1\n",
    "        self.var=var\n",
    "        print(\"object ar:\",var)\n",
    "        print(\"clas var\",abc.c)        \n",
    "b=abc(10)\n",
    "c=abc(20)"
   ]
  },
  {
   "cell_type": "code",
   "execution_count": 46,
   "id": "dde080d6-878d-44e2-b73b-4d61bffae81f",
   "metadata": {},
   "outputs": [
    {
     "name": "stdout",
     "output_type": "stream",
     "text": [
      "yes\n"
     ]
    }
   ],
   "source": [
    "class eo():\n",
    "    def __init__(self,n):\n",
    "        if n%2==0:\n",
    "            print(\"yes\")\n",
    "        else:\n",
    "            print(\"no\")\n",
    "v=eo(2)            "
   ]
  },
  {
   "cell_type": "code",
   "execution_count": 56,
   "id": "2640ec85-0a3b-4e20-a93a-9da89a0078d4",
   "metadata": {},
   "outputs": [
    {
     "name": "stdout",
     "output_type": "stream",
     "text": [
      "even\n",
      "even\n"
     ]
    }
   ],
   "source": [
    "class number:\n",
    "    even=0\n",
    "    def check(self,num):\n",
    "        if num%2==0:\n",
    "            self.even=1\n",
    "    def eo(self,num):\n",
    "        self.check(num)\n",
    "        if self.even==1:\n",
    "            print(\"even\")\n",
    "        else :\n",
    "            print(\"odd\")\n",
    "n=number()\n",
    "n.eo(24)\n",
    "n.eo(23)"
   ]
  },
  {
   "cell_type": "code",
   "execution_count": 75,
   "id": "a51fdc85-9be1-4539-b234-d08b8203561c",
   "metadata": {},
   "outputs": [
    {
     "name": "stdout",
     "output_type": "stream",
     "text": [
      "[22, 24]\n",
      "[21, 23]\n"
     ]
    }
   ],
   "source": [
    "class number:\n",
    "    even=[]\n",
    "    odd=[]\n",
    "    def __init__(self,num):\n",
    "        self.num=num\n",
    "        if num%2==0:\n",
    "            number.even.append(num)\n",
    "        else:\n",
    "            number.odd.append(num)\n",
    "n1=number(22)\n",
    "n2=number(21)\n",
    "n3=number(24)\n",
    "n4=number(23)\n",
    "print(number.even)\n",
    "print(number.odd)"
   ]
  },
  {
   "cell_type": "code",
   "execution_count": 87,
   "id": "11c391ac-057b-485f-9d42-49fd4a28214e",
   "metadata": {},
   "outputs": [
    {
     "name": "stdout",
     "output_type": "stream",
     "text": [
      "object ar: 10\n",
      "clas var 1\n",
      "object ar: 20\n",
      "clas var 2\n",
      "object ar: 101\n",
      "clas var 3\n",
      "obect 101 is out of scope\n",
      "obect 10 is out of scope\n",
      "obect 20 is out of scope\n",
      "obect 101 is out of scope\n"
     ]
    }
   ],
   "source": [
    "#delete method==__del__()\n",
    "class abc():\n",
    "    c=0\n",
    "    def __init__(self,var):\n",
    "        abc.c+=1\n",
    "        self.var=var\n",
    "        print(\"object ar:\",var)\n",
    "        print(\"clas var\",abc.c) \n",
    "    def __del__(self):\n",
    "        abc.c-=1\n",
    "        print(\"obect %d is out of scope\"%self.var)\n",
    "b=abc(10)\n",
    "c=abc(20)\n",
    "d=abc(101)\n",
    "del b\n",
    "del c\n",
    "del d\n"
   ]
  },
  {
   "cell_type": "code",
   "execution_count": 109,
   "id": "0e3d7a42-ef94-4b9f-add3-1ce5256039f5",
   "metadata": {},
   "outputs": [
    {
     "name": "stdout",
     "output_type": "stream",
     "text": [
      "theakue stored in obj is 10\n",
      "the len of name stored 6\n",
      "second<first\n"
     ]
    }
   ],
   "source": [
    "class abc():\n",
    "    def __init__(self,name,var):\n",
    "        self.name=name\n",
    "        self.var=var\n",
    "    def __repr__ (self):\n",
    "        return repr(self.var)\n",
    "    def __len__(self): \n",
    "        return len(self.name)\n",
    "    def __cmp__(self,obj):\n",
    "        return self.var-obj.var\n",
    "obj=abc(\"abcdef\",10)\n",
    "print(\"theakue stored in obj is\",repr(obj))\n",
    "print(\"the len of name stored\",len(obj))\n",
    "obj1=abc(\"ghjiklkkk\",30)\n",
    "val=obj.__cmp__(obj1)\n",
    "if val==0:\n",
    "    print(\"both are equal\")\n",
    "elif val==-1:\n",
    "    print(\"first value is <second\")\n",
    "else:\n",
    "    print(\"second<first\")\n",
    "    "
   ]
  },
  {
   "cell_type": "code",
   "execution_count": 111,
   "id": "017adabd-95b7-4222-8679-425fb2207732",
   "metadata": {},
   "outputs": [
    {
     "name": "stdout",
     "output_type": "stream",
     "text": [
      "<__main__.num object at 0x000002807F6AE390>\n",
      "[1, 2, 3, 10, 5, 6, 7]\n"
     ]
    }
   ],
   "source": [
    "class num:\n",
    "    def __init__(self, mylist):\n",
    "        self.mylist=mylist\n",
    "    def __getitem__(self,index):\n",
    "        return self.mylist[index]\n",
    "    def __setitem__(self,index,val):\n",
    "        self.mylist[index]=val\n",
    "nl=num([1,2,3,4,5,6,7])\n",
    "print(nl)\n",
    "nl[3]=10\n",
    "print(nl.mylist)\n"
   ]
  },
  {
   "cell_type": "code",
   "execution_count": null,
   "id": "3b71f41b-6855-4b9c-a103-0c320af1c965",
   "metadata": {},
   "outputs": [],
   "source": []
  }
 ],
 "metadata": {
  "kernelspec": {
   "display_name": "Python 3 (ipykernel)",
   "language": "python",
   "name": "python3"
  },
  "language_info": {
   "codemirror_mode": {
    "name": "ipython",
    "version": 3
   },
   "file_extension": ".py",
   "mimetype": "text/x-python",
   "name": "python",
   "nbconvert_exporter": "python",
   "pygments_lexer": "ipython3",
   "version": "3.12.7"
  }
 },
 "nbformat": 4,
 "nbformat_minor": 5
}
